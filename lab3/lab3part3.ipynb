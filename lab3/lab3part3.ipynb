{
 "cells": [
  {
   "cell_type": "code",
   "execution_count": 4,
   "metadata": {},
   "outputs": [
    {
     "name": "stdout",
     "output_type": "stream",
     "text": [
      "env: QXToken=c8d820fbfd256c7f80878c331c19ef7a79c7fd5b2c5551813745c137482901e1fc2035b303fd01a65f6c6573ec62654ab509489703235c5298bde34febc8fd1b\n"
     ]
    }
   ],
   "source": [
    "### Save API Token, if needed\n",
    "\n",
    "%set_env QXToken=c8d820fbfd256c7f80878c331c19ef7a79c7fd5b2c5551813745c137482901e1fc2035b303fd01a65f6c6573ec62654ab509489703235c5298bde34febc8fd1b\n",
    "# Make sure there is no space between the equal sign\n",
    "# and the beginning of your token"
   ]
  },
  {
   "cell_type": "code",
   "execution_count": 5,
   "metadata": {},
   "outputs": [
    {
     "data": {
      "text/plain": [
       "'0.18.12'"
      ]
     },
     "execution_count": 5,
     "metadata": {},
     "output_type": "execute_result"
    }
   ],
   "source": [
    "# qc-grader should be 0.18.12 (or higher)\n",
    "import qc_grader\n",
    "\n",
    "qc_grader.__version__"
   ]
  },
  {
   "cell_type": "code",
   "execution_count": 6,
   "metadata": {},
   "outputs": [],
   "source": [
    "# Import all in one cell\n",
    "\n",
    "import numpy as np\n",
    "import matplotlib.pyplot as plt\n",
    "from timeit import default_timer as timer\n",
    "import warnings\n",
    "\n",
    "from qiskit import QuantumCircuit\n",
    "from qiskit.transpiler.preset_passmanagers import generate_preset_pass_manager\n",
    "from qiskit.circuit.random import random_circuit\n",
    "from qiskit.quantum_info import SparsePauliOp\n",
    "from qiskit.circuit.library import TwoLocal, EfficientSU2\n",
    "from qiskit_ibm_runtime import QiskitRuntimeService, Estimator, Session, Options\n",
    "from qiskit_serverless import QiskitFunction, save_result, get_arguments, save_result, distribute_task, distribute_qiskit_function, IBMServerlessClient, QiskitFunction\n",
    "from qiskit.transpiler.preset_passmanagers import generate_preset_pass_manager\n",
    "from qiskit_transpiler_service.transpiler_service import TranspilerService\n",
    "from qiskit_aer import AerSimulator"
   ]
  },
  {
   "cell_type": "code",
   "execution_count": 7,
   "metadata": {},
   "outputs": [],
   "source": [
    "# Import for grader\n",
    "from qc_grader.challenges.iqc_2024 import grade_lab3_qs_ex1, grade_lab3_qs_ex2"
   ]
  },
  {
   "cell_type": "code",
   "execution_count": 8,
   "metadata": {},
   "outputs": [],
   "source": [
    "# If needed setup your QiskitRuntimeService\n",
    "\n",
    "QiskitRuntimeService.save_account(\n",
    "    channel=\"ibm_quantum\",\n",
    "    token=\"c8d820fbfd256c7f80878c331c19ef7a79c7fd5b2c5551813745c137482901e1fc2035b303fd01a65f6c6573ec62654ab509489703235c5298bde34febc8fd1b\",\n",
    "    set_as_default=True,\n",
    "    # Use `overwrite=True` if you're updating your token.\n",
    "    overwrite=True,\n",
    ")\n",
    "\n",
    "service = QiskitRuntimeService(channel=\"ibm_quantum\")\n",
    " \n",
    "# Specify a system to use for transpilation\n",
    "real_backend = service.backend(\"ibm_brisbane\")"
   ]
  },
  {
   "cell_type": "code",
   "execution_count": 9,
   "metadata": {},
   "outputs": [],
   "source": [
    "# Qiskit Pattern Step 1: Map quantum circuits and operators (Define Ansatz and operators)\n",
    "num_qubits = 3\n",
    "rotation_blocks = ['ry','rz']\n",
    "entanglement_blocks = 'cz'\n",
    "entanglement = 'full'\n",
    "# Define Ansatz\n",
    "ansatz = TwoLocal(num_qubits=num_qubits,rotation_blocks=rotation_blocks,entanglement_blocks=entanglement_blocks,entanglement=entanglement,reps=1,insert_barriers=True)\n",
    "\n",
    "\n",
    "# Define parameters\n",
    "num_params = ansatz.num_parameters\n",
    "\n",
    "# Qiskit Pattern Step 2: Optimize the circuit for quantum execution\n",
    "optimization_level = 2\n",
    "pm = generate_preset_pass_manager(backend=real_backend, optimization_level=optimization_level)\n",
    "isa_circuit = pm.run(ansatz)\n",
    "\n",
    "# Define Hamiltonian for VQE\n",
    "pauli_op = SparsePauliOp(['ZII', 'IZI', 'IIZ'])\n",
    "hamiltonian_isa = pauli_op.apply_layout(layout=isa_circuit.layout)"
   ]
  },
  {
   "cell_type": "code",
   "execution_count": 10,
   "metadata": {},
   "outputs": [],
   "source": [
    "# Setup Qiskit Serverless Client and Qiskit Runtime client\n",
    "client = IBMServerlessClient(\"c8d820fbfd256c7f80878c331c19ef7a79c7fd5b2c5551813745c137482901e1fc2035b303fd01a65f6c6573ec62654ab509489703235c5298bde34febc8fd1b\") # Add in your IBM Quantum Token to QiskitServerless Client\n",
    "\n",
    "# For the challenge, we will be using QiskitRuntime Local testing mode. Change to True only if you wish to use real backend.\n",
    "USE_RUNTIME_SERVICE = False\n",
    "\n",
    "if USE_RUNTIME_SERVICE:\n",
    "    service = QiskitRuntimeService(\n",
    "        channel='ibm_quantum', \n",
    "        verify=False\n",
    "    )\n",
    "else:\n",
    "    service = None"
   ]
  },
  {
   "cell_type": "code",
   "execution_count": 11,
   "metadata": {},
   "outputs": [],
   "source": [
    "# Define the Qiskit Function\n",
    "if USE_RUNTIME_SERVICE:\n",
    "    function = QiskitFunction(title= \"vqe\", entrypoint=\"vqe.py\", working_dir=\"C:\\\\Users\\\\kldab\\\\Desktop\\\\lab3\\\\vqe\")\n",
    "else:\n",
    "    function = QiskitFunction(title= \"vqe\" , entrypoint=\"vqe.py\", working_dir=\"C:\\\\Users\\\\kldab\\\\Desktop\\\\lab3\\\\vqe\",  dependencies=[\"qiskit_aer\"])"
   ]
  },
  {
   "cell_type": "code",
   "execution_count": 12,
   "metadata": {},
   "outputs": [
    {
     "data": {
      "text/plain": [
       "'vqe'"
      ]
     },
     "execution_count": 12,
     "metadata": {},
     "output_type": "execute_result"
    }
   ],
   "source": [
    "# Upload the Qiskit Function using IBMServerlessClient\n",
    "client.upload(function)"
   ]
  },
  {
   "cell_type": "code",
   "execution_count": 13,
   "metadata": {},
   "outputs": [],
   "source": [
    "# Define input_arguments\n",
    "input_arguments = {\n",
    "    \"ansatz\":isa_circuit, # Replace with your transpiled ansatz\n",
    "    \"operator\":hamiltonian_isa, # Replace with the hamiltonian operator\n",
    "    \"method\":\"COBYLA\",# Using COBYLA method for the optimizer\n",
    "    \"service\":service # Add your code here\n",
    "}\n",
    "\n",
    "# Qiskit Pattern Step 3: Run the payload on backend\n",
    "job = client.run(\"vqe\", arguments=input_arguments)"
   ]
  },
  {
   "cell_type": "code",
   "execution_count": 14,
   "metadata": {},
   "outputs": [
    {
     "name": "stdout",
     "output_type": "stream",
     "text": [
      "Submitting your answer. Please wait...\n",
      "Congratulations 🎉! Your answer is correct and has been submitted.\n"
     ]
    }
   ],
   "source": [
    "# Submit your answer using following code\n",
    "\n",
    "grade_lab3_qs_ex1(function, input_arguments, job)\n",
    "# Expected result type: QiskitFunction, dict, Job"
   ]
  },
  {
   "cell_type": "code",
   "execution_count": 15,
   "metadata": {},
   "outputs": [
    {
     "data": {
      "text/plain": [
       "<Job | 806a511c-553f-41ae-8930-e5acc321ffc9>"
      ]
     },
     "execution_count": 15,
     "metadata": {},
     "output_type": "execute_result"
    }
   ],
   "source": [
    "# Return jobid\n",
    "job"
   ]
  },
  {
   "cell_type": "code",
   "execution_count": 16,
   "metadata": {},
   "outputs": [
    {
     "data": {
      "text/plain": [
       "'QUEUED'"
      ]
     },
     "execution_count": 16,
     "metadata": {},
     "output_type": "execute_result"
    }
   ],
   "source": [
    "# Check job completion status\n",
    "job.status()"
   ]
  },
  {
   "cell_type": "code",
   "execution_count": 17,
   "metadata": {},
   "outputs": [
    {
     "name": "stdout",
     "output_type": "stream",
     "text": [
      "No logs yet.\n"
     ]
    }
   ],
   "source": [
    "# Monitor log\n",
    "logs = job.logs()\n",
    "\n",
    "for log in logs.splitlines():\n",
    "    print(log)"
   ]
  },
  {
   "cell_type": "code",
   "execution_count": null,
   "metadata": {},
   "outputs": [],
   "source": [
    "# Return result from QiskitFunction job\n",
    "job.result()"
   ]
  },
  {
   "cell_type": "code",
   "execution_count": null,
   "metadata": {},
   "outputs": [],
   "source": [
    "# Qiskit Pattern Step 4: Postprocess and analyze the Estimator V2 results\n",
    "result = job.result()\n",
    "\n",
    "fig, ax = plt.subplots()\n",
    "plt.plot(range(result[\"iters\"]), result[\"cost_history\"])\n",
    "plt.xlabel(\"Energy\")\n",
    "plt.ylabel(\"Cost\")\n",
    "plt.draw()"
   ]
  },
  {
   "cell_type": "code",
   "execution_count": 20,
   "metadata": {},
   "outputs": [],
   "source": [
    "# Setup 3 circuits with Efficient SU2\n",
    "num_qubits = [41, 51, 61]\n",
    "circuits = [EfficientSU2(nq, su2_gates=[\"rz\",\"ry\"], entanglement=\"circular\", reps=1).decompose() for nq in num_qubits]"
   ]
  },
  {
   "cell_type": "code",
   "execution_count": 21,
   "metadata": {},
   "outputs": [],
   "source": [
    "# Setup Qiskit Runtime Service backend\n",
    "\n",
    "QiskitRuntimeService.save_account(\n",
    "    channel=\"ibm_quantum\",\n",
    "    token='c8d820fbfd256c7f80878c331c19ef7a79c7fd5b2c5551813745c137482901e1fc2035b303fd01a65f6c6573ec62654ab509489703235c5298bde34febc8fd1b',\n",
    "    set_as_default=True,\n",
    "    # Use 'overwrite=True' if you're updating your token.\n",
    "    overwrite=True,\n",
    ")\n",
    "\n",
    "service = QiskitRuntimeService(channel=\"ibm_quantum\")\n",
    "backend = service.backend(\"ibm_brisbane\")"
   ]
  },
  {
   "cell_type": "code",
   "execution_count": 22,
   "metadata": {},
   "outputs": [],
   "source": [
    "# Define Configs\n",
    "optimization_levels = [1,2,3]\n",
    "pass_managers = [{'pass_manager': generate_preset_pass_manager(optimization_level=level, backend=backend), 'optimization_level': level} for level in optimization_levels]\n",
    "\n",
    "transpiler_services = [ \n",
    "        {'service': TranspilerService(backend_name=\"ibm_brisbane\",ai=\"false\",optimization_level=3), 'ai': False, 'optimization_level': 3},\n",
    "        {'service': TranspilerService(backend_name=\"ibm_brisbane\",ai=\"true\",optimization_level=3), 'ai': True, 'optimization_level': 3}\n",
    "    ]\n",
    "\n",
    "configs = pass_managers + transpiler_services"
   ]
  },
  {
   "cell_type": "code",
   "execution_count": 23,
   "metadata": {},
   "outputs": [],
   "source": [
    "# Local transpilation setup\n",
    "def transpile_parallel_local(circuit: QuantumCircuit, config):\n",
    "    \"\"\"Transpilation for an abstract circuit into an ISA circuit for a given config.\"\"\"\n",
    "    transpiled_circuit = config.run(circuit)\n",
    "    return transpiled_circuit"
   ]
  },
  {
   "cell_type": "code",
   "execution_count": null,
   "metadata": {},
   "outputs": [
    {
     "name": "stderr",
     "output_type": "stream",
     "text": [
      "INFO:qiskit_transpiler_service.transpiler_service:Requesting transpile to the service\n",
      "INFO:qiskit_transpiler_service.transpiler_service:Qiskit transpiler service returned a result\n",
      "INFO:qiskit_transpiler_service.transpiler_service:Requesting transpile to the service\n",
      "INFO:qiskit_transpiler_service.transpiler_service:Qiskit transpiler service returned a result\n",
      "INFO:qiskit_transpiler_service.transpiler_service:Requesting transpile to the service\n",
      "INFO:qiskit_transpiler_service.transpiler_service:Qiskit transpiler service returned a result\n",
      "INFO:qiskit_transpiler_service.transpiler_service:Requesting transpile to the service\n",
      "INFO:qiskit_transpiler_service.transpiler_service:Qiskit transpiler service returned a result\n",
      "INFO:qiskit_transpiler_service.transpiler_service:Requesting transpile to the service\n",
      "INFO:qiskit_transpiler_service.transpiler_service:Qiskit transpiler service returned a result\n",
      "INFO:qiskit_transpiler_service.transpiler_service:Requesting transpile to the service\n",
      "INFO:qiskit_transpiler_service.transpiler_service:Qiskit transpiler service returned a result\n"
     ]
    },
    {
     "name": "stdout",
     "output_type": "stream",
     "text": [
      "Execution time locally:  575.5635851999978\n"
     ]
    }
   ],
   "source": [
    "\n",
    "# Run local transpilation\n",
    "warnings.filterwarnings(\"ignore\")\n",
    "\n",
    "start = timer()\n",
    "\n",
    "# Run transpilations locally for baseline\n",
    "results = []\n",
    "for circuit in circuits:\n",
    "    for config in configs:\n",
    "        if 'pass_manager' in config:\n",
    "            results.append(transpile_parallel_local(circuit, config['pass_manager']))\n",
    "        else:\n",
    "            results.append(transpile_parallel_local(circuit, config['service']))\n",
    "            \n",
    "end = timer()\n",
    "\n",
    "# Record local execution time\n",
    "execution_time_local = end - start\n",
    "print(\"Execution time locally: \", execution_time_local)"
   ]
  },
  {
   "cell_type": "code",
   "execution_count": 24,
   "metadata": {},
   "outputs": [],
   "source": [
    "\n",
    "# Authenticate to the remote cluster and submit the pattern for remote execution if not done in previous exercise\n",
    "serverless = IBMServerlessClient(\"c8d820fbfd256c7f80878c331c19ef7a79c7fd5b2c5551813745c137482901e1fc2035b303fd01a65f6c6573ec62654ab509489703235c5298bde34febc8fd1b\")"
   ]
  },
  {
   "cell_type": "code",
   "execution_count": 32,
   "metadata": {},
   "outputs": [],
   "source": [
    "transpile_parallel_function = QiskitFunction(\n",
    "    title=\"transpile_parallel\",\n",
    "    entrypoint=\"transpile_parallel.py\",\n",
    "    working_dir=\"C:\\\\Users\\\\kldab\\\\Desktop\\\\lab3\\\\transpile_parallel\",\n",
    "    dependencies=[\"qiskit-transpiler-service\"]\n",
    ")"
   ]
  },
  {
   "cell_type": "code",
   "execution_count": 33,
   "metadata": {},
   "outputs": [
    {
     "data": {
      "text/plain": [
       "'transpile_parallel'"
      ]
     },
     "execution_count": 33,
     "metadata": {},
     "output_type": "execute_result"
    }
   ],
   "source": [
    "serverless.upload(transpile_parallel_function)"
   ]
  },
  {
   "cell_type": "code",
   "execution_count": 34,
   "metadata": {},
   "outputs": [
    {
     "data": {
      "text/plain": [
       "[QiskitFunction(vqe), QiskitFunction(transpile_parallel)]"
      ]
     },
     "execution_count": 34,
     "metadata": {},
     "output_type": "execute_result"
    }
   ],
   "source": [
    "serverless.list()"
   ]
  },
  {
   "cell_type": "code",
   "execution_count": 35,
   "metadata": {},
   "outputs": [],
   "source": [
    "# Fetch the specific function titled \"transpile_parallel\"\n",
    "transpile_parallel_serverless = serverless.get('transpile_parallel')"
   ]
  },
  {
   "cell_type": "code",
   "execution_count": 36,
   "metadata": {},
   "outputs": [],
   "source": [
    "# Run the \"transpile_parallel\" function in the serverless environment\n",
    "job = transpile_parallel_serverless.run()"
   ]
  },
  {
   "cell_type": "code",
   "execution_count": 37,
   "metadata": {},
   "outputs": [
    {
     "name": "stdout",
     "output_type": "stream",
     "text": [
      "Submitting your answer. Please wait...\n",
      "Congratulations 🎉! Your answer is correct and has been submitted.\n"
     ]
    }
   ],
   "source": [
    "# Submit your answer using following code\n",
    "\n",
    "grade_lab3_qs_ex2(optimization_levels, transpiler_services, transpile_parallel_function, transpile_parallel_serverless, job)\n",
    "# Expected result type: list, list, QiskitFunction, QiskitFunction, Job"
   ]
  }
 ],
 "metadata": {
  "kernelspec": {
   "display_name": "KLD",
   "language": "python",
   "name": "python3"
  },
  "language_info": {
   "codemirror_mode": {
    "name": "ipython",
    "version": 3
   },
   "file_extension": ".py",
   "mimetype": "text/x-python",
   "name": "python",
   "nbconvert_exporter": "python",
   "pygments_lexer": "ipython3",
   "version": "3.11.9"
  }
 },
 "nbformat": 4,
 "nbformat_minor": 2
}
